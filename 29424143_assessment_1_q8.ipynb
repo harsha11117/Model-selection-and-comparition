{
 "cells": [
  {
   "cell_type": "markdown",
   "metadata": {},
   "source": [
    "# Multiclass Perceptron"
   ]
  },
  {
   "cell_type": "markdown",
   "metadata": {},
   "source": [
    "## Loading required "
   ]
  },
  {
   "cell_type": "code",
   "execution_count": 1,
   "metadata": {},
   "outputs": [
    {
     "name": "stderr",
     "output_type": "stream",
     "text": [
      "\n",
      "Attaching package: ‘dplyr’\n",
      "\n",
      "The following objects are masked from ‘package:stats’:\n",
      "\n",
      "    filter, lag\n",
      "\n",
      "The following objects are masked from ‘package:base’:\n",
      "\n",
      "    intersect, setdiff, setequal, union\n",
      "\n"
     ]
    }
   ],
   "source": [
    "library(ggplot2)\n",
    "library(dplyr)"
   ]
  },
  {
   "cell_type": "markdown",
   "metadata": {},
   "source": [
    "## Loading the required data"
   ]
  },
  {
   "cell_type": "code",
   "execution_count": 2,
   "metadata": {},
   "outputs": [],
   "source": [
    "# loading data from csv file\n",
    "train = read.csv(\"Task2C_train.csv\",header=TRUE)\n",
    "test = read.csv(\"Task2C_test.csv\",header=TRUE)\n",
    "\n",
    "# shuffle the train and test data\n",
    "set.seed(200)\n",
    "train <- train[sample(nrow(train)),]\n",
    "test <- test[sample(nrow(test)),]\n",
    "\n",
    "# taking train data and test data\n",
    "train.data <- train[,-ncol(train)]\n",
    "train.label <- as.vector(train[,ncol(train)])\n",
    "\n",
    "test.data <-  test[,-ncol(test)]\n",
    "test.label <- as.vector(test[,ncol(test)])"
   ]
  },
  {
   "cell_type": "markdown",
   "metadata": {},
   "source": [
    "### Finding number of classifiers "
   ]
  },
  {
   "cell_type": "code",
   "execution_count": 3,
   "metadata": {},
   "outputs": [
    {
     "name": "stdout",
     "output_type": "stream",
     "text": [
      "[1] 3\n"
     ]
    }
   ],
   "source": [
    "# finding out number of classifiers in a the data\n",
    "K <- nlevels(factor(train[,ncol(train)]))\n",
    "print(K)"
   ]
  },
  {
   "cell_type": "markdown",
   "metadata": {},
   "source": [
    "### Auxillary functions"
   ]
  },
  {
   "cell_type": "code",
   "execution_count": 4,
   "metadata": {},
   "outputs": [],
   "source": [
    "# auxillary function to find error and update weights \n",
    "error <- function(Phi,W1,W2,W3,index,label,train.data){\n",
    "    # Three binary classifiers\n",
    "    Y_1 = data.frame(Phi%*%W1[index, ])\n",
    "    Y_2 = data.frame(Phi%*%W2[index, ])\n",
    "    Y_3 = data.frame(Phi%*%W3[index, ])\n",
    "    # Predicted class\n",
    "    T = matrix(,nrow=nrow(Phi),ncol=1)\n",
    "    for(k in 1:nrow(Phi)){\n",
    "        T[k,] <- compare(Y_1[k,],Y_2[k,],Y_3[k,])\n",
    "    }\n",
    "    # returning the error\n",
    "    return(sum(T != label)/nrow(train.data))\n",
    "}\n",
    "\n",
    "# auxillary function to predict the class\n",
    "compare <- function(y1,y2,y3){\n",
    "    if(y1 > y2) {\n",
    "        if(y1 > y3) {T <- 'C1'}\n",
    "            else{ T <- 'C3'}\n",
    "    }\n",
    "    else{\n",
    "        if(y2 > y3) {T <- 'C2'}\n",
    "            else{ T <- 'C3'}\n",
    "    }\n",
    "    return(T)\n",
    "}\n",
    "\n",
    "\n"
   ]
  },
  {
   "cell_type": "code",
   "execution_count": 5,
   "metadata": {},
   "outputs": [],
   "source": [
    "# create a basis function\n",
    "Phi <- cbind(1,train.data)\n",
    "\n",
    "#intializing the required parameters\n",
    "Phi <- as.matrix(Phi)\n",
    "eta <- 0.1 # Learning rate\n",
    "epsilon <- 0.001 # Stoping criterion\n",
    "tau.max <- 100 # Maximum number of iterations\n",
    "\n",
    "# initializing k weight vectors\n",
    "\n",
    "w1 = matrix(,nrow=tau.max,ncol=ncol(Phi))\n",
    "w2 = matrix(,nrow=tau.max,ncol=ncol(Phi))\n",
    "w3 = matrix(,nrow=tau.max,ncol=ncol(Phi))\n",
    "\n",
    "w1[1,] <- runif(ncol(Phi)) # Random initial values for w1 weight vector\n",
    "w2[1,] <- runif(ncol(Phi)) # Random initial values for w2 weight vector\n",
    "w3[1,] <- runif(ncol(Phi)) # Random initial values for w3 weight vector\n",
    "\n",
    "tau <- 1 # iteration counter \n",
    "terminate <- FALSE # termination status\n",
    "\n",
    "\n",
    "# loop\n",
    " while(!terminate){\n",
    " # test errofor every 5 datapoints\n",
    " test_error = matrix(,nrow=round(nrow(train.data)/5,digits=0),ncol=2)\n",
    "     l = 1 # test_error iterator\n",
    "     # every datapoint\n",
    "     for(i in 1:nrow(train.data)){\n",
    "         if(tau == tau.max){break}\n",
    "         t =''\n",
    "         y1 <- (w1[tau,]%*%Phi[i,])\n",
    "         y2 <- (w2[tau,]%*%Phi[i,])\n",
    "         y3 <- (w3[tau,]%*%Phi[i,])\n",
    "\n",
    "         t <- compare(y1,y2,y3)\n",
    "         # condition to check where predicted label is same as train label\n",
    "         if( t != train.label[i]){\n",
    "             tau <- tau + 1\n",
    "             \n",
    "             pred <- strsplit(t, \"\")[[1]][2]\n",
    "             true <- strsplit(train.label[i],\"\")[[1]][2]\n",
    "\n",
    "             # updating the weigth vectors\n",
    "             if(pred == '1'){\n",
    "             w1[tau,] <- eval(as.name(paste('w',pred,sep='')))[tau-1,] - eta * Phi[i,]\n",
    "             }else if(pred == '2'){\n",
    "                 w2[tau,] <- eval(as.name(paste('w',pred,sep='')))[tau-1,] - eta * Phi[i,]\n",
    "                 } else {\n",
    "                 w3[tau,] <- eval(as.name(paste('w',pred,sep='')))[tau-1,] - eta * Phi[i,]\n",
    "            }\n",
    "            if(true == '1') {\n",
    "             w1[tau,] <- eval(as.name(paste('w',true,sep='')))[tau-1,] + eta * Phi[i,]\n",
    "            }else if(true == '2'){\n",
    "                 w2[tau,] <- eval(as.name(paste('w',true,sep='')))[tau-1,] + eta * Phi[i,]\n",
    "                 } else {\n",
    "                 w3[tau,] <- eval(as.name(paste('w',true,sep='')))[tau-1,] + eta * Phi[i,]\n",
    "            } \n",
    "         for( j in 1:3){\n",
    "             if (is.na(eval(as.name(paste('w',j,sep='')))[tau,1])){\n",
    "                 if(j==1) {\n",
    "                    w1[tau,] <- eval(as.name(paste('w',j,sep='')))[tau-1,]\n",
    "                        }else if(j==2){\n",
    "                    w2[tau,] <- eval(as.name(paste('w',j,sep='')))[tau-1,]\n",
    "                         } else {\n",
    "                    w3[tau,] <- eval(as.name(paste('w',j,sep='')))[tau-1,]\n",
    "                  } \n",
    "             }\n",
    "         }\n",
    "\n",
    "     }\n",
    "             \n",
    "    # condition to find the test_error for every 5 data points\n",
    "    if(i%%5 == 0){\n",
    "             Phi_t = as.matrix(cbind(1,test.data))\n",
    "             test_error[l,2] <- error(Phi_t,w1,w2,w3,tau,test.label,test.data)\n",
    "             test_error[l,1] <- i\n",
    "             l = l+1\n",
    "        }\n",
    "             \n",
    "    # recalculate termination conditions\n",
    "    if (tau >= 2){\n",
    "    terminate <- tau >= tau.max | \n",
    "        abs(error(Phi,w1,w2,w3,tau,train.label,train.data) - error(Phi,w1,w2,w3,tau-1,train.label,train.data)) <= epsilon \n",
    "    }\n",
    "    else{\n",
    "     terminate <- tau >= tau.max | \n",
    "        abs(error(Phi,w1,w2,w3,tau,train.label,train.data) - 0) <= epsilon   \n",
    "    }\n",
    "\n",
    " }\n",
    "}\n",
    "# final updated weigths\n",
    "w1 <- w1[1:tau,]\n",
    "w2 <- w2[1:tau,]\n",
    "w3 <- w3[1:tau,]"
   ]
  },
  {
   "cell_type": "markdown",
   "metadata": {},
   "source": [
    "## plotting test  error for every 5 data points"
   ]
  },
  {
   "cell_type": "code",
   "execution_count": 6,
   "metadata": {},
   "outputs": [
    {
     "data": {
      "image/png": "[encoded data removed]",
      "text/plain": [
       "plot without title"
      ]
     },
     "metadata": {},
     "output_type": "display_data"
    }
   ],
   "source": [
    "test_error = data.frame(test_error)\n",
    "colnames(test_error)<- c('data_points','test.error')\n",
    "\n",
    "y <- ggplot(test_error,aes(x=data_points,y=test.error))+geom_line(aes(color='blue'))\n",
    "plot(y)"
   ]
  },
  {
   "cell_type": "markdown",
   "metadata": {},
   "source": [
    "## one vs one classifier"
   ]
  },
  {
   "cell_type": "markdown",
   "metadata": {},
   "source": [
    "###  initializing the required data"
   ]
  },
  {
   "cell_type": "code",
   "execution_count": 7,
   "metadata": {},
   "outputs": [],
   "source": [
    "# train data for C1,C2 classifier\n",
    "train1 <- filter(train,y %in% c('C1','C2'))\n",
    "Phi1 <- as.matrix(cbind(1,train1[,-ncol(train1)]))\n",
    "\n",
    "# train data for C2,C3 classifier\n",
    "train2 <- filter(train,y %in% c('C2','C3'))\n",
    "Phi2 <- as.matrix(cbind(1,train2[,-ncol(train2)]))\n",
    "\n",
    "# train data for C3,C1 classifier\n",
    "train3 <- filter(train,y %in% c('C3','C1'))\n",
    "Phi3 <- as.matrix(cbind(1,train3[,-ncol(train3)]))\n",
    "\n",
    "eta <- 0.1 # Learning rate\n",
    "\n",
    "# maximum iterations\n",
    "tau.max <- 50\n",
    "\n",
    "# initializing k weight vectors\n",
    "w12 = matrix(0,nrow=tau.max,ncol=ncol(Phi1))\n",
    "w23 = matrix(0,nrow=tau.max,ncol=ncol(Phi2))\n",
    "w31 = matrix(0,nrow=tau.max,ncol=ncol(Phi3))\n",
    "\n",
    "# randomly assigning weights\n",
    "w12[1,] <- runif(ncol(Phi1)) # Random initial values for w1 weight vector\n",
    "w23[1,] <- runif(ncol(Phi2)) # Random initial values for w2 weight vector\n",
    "w31[1,] <- runif(ncol(Phi3)) # Random initial values for w3 weight vector\n",
    "\n",
    "# train labels\n",
    "T1 <- ifelse(train1[,ncol(train1)] == 'C1', +1,-1) # Convention for class labels\n",
    "T2 <- ifelse(train2[,ncol(train2)] == 'C2', +1,-1) # Convention for class labels\n",
    "T3 <- ifelse(train3[,ncol(train3)] == 'C3', +1,-1) # Convention for class labels"
   ]
  },
  {
   "cell_type": "markdown",
   "metadata": {},
   "source": [
    "### weights generation"
   ]
  },
  {
   "cell_type": "code",
   "execution_count": 8,
   "metadata": {},
   "outputs": [],
   "source": [
    "# creating weights\n",
    "weights <- function(Phi,w,T){\n",
    "    # intial values\n",
    "    terminate <- FALSE\n",
    "    eta <- 0.1 # Learning rate\n",
    "    epsilon <- 0.001 # Stoping criterion\n",
    "    tau <- 1\n",
    "    iter <- 1\n",
    "while(!terminate){\n",
    "    # for each iteration\n",
    "    for (i in 1:nrow(Phi)){\n",
    "        # condition to break loop\n",
    "        if (tau == tau.max) {break}\n",
    "        # look for missclassified samples\n",
    "        if ((w[tau,]%*%Phi[i,])*T[i]<0){\n",
    "\n",
    "            # update tau counter\n",
    "            tau <- tau +1\n",
    "\n",
    "            # update the weights\n",
    "            w[tau,] <- w[tau-1,] + eta * Phi[i,] * T[i]\n",
    "    \n",
    "        } \n",
    "    }\n",
    "    eta <- eta*0.99 # decreasing eta\n",
    "    # iter is to stop the loop\n",
    "    iter <- iter + 1\n",
    "     # recalculate termination conditions\n",
    "    terminate <- tau >= tau.max | \n",
    "        abs(sum((Phi%*%w[tau,])*T<0)/nrow(Phi) - sum((Phi%*%w[tau-1,])*T<0)/nrow(Phi)) <= epsilon | iter > 500\n",
    "\n",
    "    }\n",
    "    w <- w[1:tau,]\n",
    " return(w[nrow(w),]) # returns the last row\n",
    "}\n",
    "\n",
    "# three weights \n",
    "w1 <- weights(Phi1,w12,T1)\n",
    "w2 <- weights(Phi2,w23,T2)\n",
    "w3 <- weights(Phi3,w31,T3)"
   ]
  },
  {
   "cell_type": "markdown",
   "metadata": {},
   "source": [
    "### classifying the test data"
   ]
  },
  {
   "cell_type": "code",
   "execution_count": 9,
   "metadata": {},
   "outputs": [],
   "source": [
    "#  basis function \n",
    "Phi_t <- as.matrix(cbind(1,test.data))\n",
    "# matrix to save predicted classes\n",
    "t <- matrix(0,nrow=nrow(test.data),ncol=1)\n",
    "\n",
    "# for each test data point\n",
    "for( i in 1:nrow(test.data)){\n",
    "    \n",
    "    # computing class function\n",
    "    y12 <- (w1%*%Phi_t[i,])\n",
    "    y23 <- (w2%*%Phi_t[i,])\n",
    "    y31 <- (w3%*%Phi_t[i,])\n",
    "    \n",
    "    # condition to classify the test datapoint\n",
    "    if (y12 > 0){y1 = 'C1'}\n",
    "    else{y1 = 'C2'}\n",
    "    \n",
    "    # conditon to classify the test datapoint\n",
    "    if(y23 > 0){y2 = 'C2'}\n",
    "    else{y2 = 'C3'}\n",
    "    \n",
    "    # condition to classify the test datapoint\n",
    "    if(y31 > 0){y3 = 'C3'}\n",
    "    else{y3 = 'C1'}\n",
    "    \n",
    "    # prediction of all classifiers\n",
    "    pred <- c(y1,y2,y3)\n",
    "    \n",
    "    # condition to find confusion event\n",
    "    r <-as.matrix(sort(table(pred),decreasing=TRUE)[1])\n",
    "    if(r[1] == 2){t[i,1] <-  rownames(r)}\n",
    "    else{t[i,1] <- 'Confusion event'}\n",
    "\n",
    "}"
   ]
  },
  {
   "cell_type": "markdown",
   "metadata": {},
   "source": [
    "### checking for confusion event"
   ]
  },
  {
   "cell_type": "code",
   "execution_count": 10,
   "metadata": {},
   "outputs": [],
   "source": [
    "if('Confusion event' %in% t[,1]) {print('Yes,confusion event exist')}"
   ]
  },
  {
   "cell_type": "markdown",
   "metadata": {},
   "source": [
    "** No output from above cell it means NO confusion event. I always expected a confusion event, but here data is perfectly separated that you won't find the confusion event.**"
   ]
  }
 ],
 "metadata": {
  "kernelspec": {
   "display_name": "R",
   "language": "R",
   "name": "ir"
  },
  "language_info": {
   "codemirror_mode": "r",
   "file_extension": ".r",
   "mimetype": "text/x-r-source",
   "name": "R",
   "pygments_lexer": "r",
   "version": "3.4.3"
  }
 },
 "nbformat": 4,
 "nbformat_minor": 2
}
