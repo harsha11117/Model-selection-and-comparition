{
 "cells": [
  {
   "cell_type": "markdown",
   "metadata": {},
   "source": [
    "# Logistic Regression vs. Bayesian Classifier"
   ]
  },
  {
   "cell_type": "markdown",
   "metadata": {},
   "source": [
    "## Running required packages"
   ]
  },
  {
   "cell_type": "code",
   "execution_count": 4,
   "metadata": {},
   "outputs": [],
   "source": [
    "# Data Generation\n",
    "## Libraries:\n",
    "library(mvtnorm) # generates multivariate Gaussian sampels and calculate the densities\n",
    "library(ggplot2)\n",
    "library(reshape2)"
   ]
  },
  {
   "cell_type": "markdown",
   "metadata": {},
   "source": [
    "## Loading required data"
   ]
  },
  {
   "cell_type": "code",
   "execution_count": 5,
   "metadata": {},
   "outputs": [],
   "source": [
    "# creating train and test data from csv file\n",
    "train = read.csv(\"Task2D_train.csv\",header=TRUE)\n",
    "test = read.csv(\"Task2D_test.csv\",header=TRUE)\n",
    "\n",
    "# shuffling the train and test\n",
    "train <- train[sample(nrow(train)),]\n",
    "test <- test[sample(nrow(test)),]\n",
    "\n",
    "# creating train labels and test labels\n",
    "train.data <- train[,-ncol(train)]\n",
    "train.label <- as.vector(train[,ncol(train)])\n",
    "test.data <- test[,-ncol(test)]\n",
    "test.label <- as.vector(test[,ncol(test)])"
   ]
  },
  {
   "cell_type": "markdown",
   "metadata": {},
   "source": [
    "## Bayes Classifier"
   ]
  },
  {
   "cell_type": "code",
   "execution_count": 6,
   "metadata": {},
   "outputs": [],
   "source": [
    "bayesclassifier <- function(train.data,train.label,test.data,test.label){\n",
    "    # Class probabilities:\n",
    "    p0.hat <- sum(train.label==1)/nrow(train.data) # total number of samples in class 0 divided by the total nmber of training data\n",
    "    p1.hat <- sum(train.label==-1)/nrow(train.data) # or simply 1 - p1.hat\n",
    "    \n",
    "    # Class means:\n",
    "    mu0.hat <- colMeans(train.data[train.label==1,])\n",
    "    mu1.hat <- colMeans(train.data[train.label==-1,])\n",
    "    \n",
    "    # class covariance matrices:\n",
    "    sigma0.hat <- var(train.data[train.label==1,])\n",
    "    sigma1.hat <- var(train.data[train.label==-1,])\n",
    "\n",
    "    # shared covariance matrix:\n",
    "    sigma.hat <- p0.hat * sigma0.hat + p1.hat * sigma1.hat \n",
    "    \n",
    "    # calculate posteriors:\n",
    "    posterior0 <- p0.hat*dmvnorm(x=train.data, mean=mu0.hat, sigma=sigma.hat)\n",
    "    posterior1 <- p1.hat*dmvnorm(x=train.data, mean=mu1.hat, sigma=sigma.hat)\n",
    "    \n",
    "    # calculate predictions:\n",
    "    train.predict <- ifelse(posterior0 > posterior1, 1, -1)\n",
    "    test.predict <- ifelse(p0.hat*dmvnorm(x=test.data, mean=mu0.hat, sigma=sigma.hat) > p1.hat*dmvnorm(x=test.data, mean=mu1.hat, sigma=sigma.hat), 1, -1)\n",
    "    test_error = sum(test.predict != test.label)/nrow(test.data)\n",
    "    return(test_error)\n",
    "}"
   ]
  },
  {
   "cell_type": "markdown",
   "metadata": {},
   "source": [
    "## Logistic regression"
   ]
  },
  {
   "cell_type": "markdown",
   "metadata": {},
   "source": [
    "### Auxillary function"
   ]
  },
  {
   "cell_type": "code",
   "execution_count": 16,
   "metadata": {},
   "outputs": [],
   "source": [
    "# auxiliary function that predicts class labels\n",
    "predict <- function(w, X){\n",
    "    sig <- sigmoid(w, X)\n",
    "    return(ifelse(sig>0.5, 1,0))\n",
    "}\n",
    "    \n",
    "# auxiliary function that calculate a cost function\n",
    "cost <- function (w, X, T){\n",
    "    sig <- sigmoid(w, X)\n",
    "    return(sum(ifelse(T==0, 1-sig, sig)))\n",
    "}\n",
    "\n",
    "# Sigmoid function (=p(C1|X))\n",
    "sigmoid <- function(w, x){\n",
    "    return(1.0/(1.0+exp(-w%*%t(cbind(1,x)))))    \n",
    "}"
   ]
  },
  {
   "cell_type": "markdown",
   "metadata": {},
   "source": [
    "### Initialization"
   ]
  },
  {
   "cell_type": "code",
   "execution_count": 17,
   "metadata": {},
   "outputs": [],
   "source": [
    "logisticreg <- function(train.data,train.label){\n",
    "    # Initializations\n",
    "    tau.max <- 1000 # maximum number of iterations\n",
    "    eta <- 0.01 # learning rate\n",
    "    epsilon <- 0.01 # a threshold on the cost (to terminate the process)\n",
    "    tau <- 1 # iteration counter\n",
    "    terminate <- FALSE\n",
    "\n",
    "    ## Just a few name/type conversion to make the rest of the code easy to follow\n",
    "    X <- as.matrix(train.data) # rename just for conviniance\n",
    "    T <- ifelse(train.label==-1,0,1) # rename just for conviniance\n",
    "\n",
    "    W <- matrix(,nrow=tau.max, ncol=(ncol(X)+1)) # to be used to store the estimated coefficients\n",
    "    W[1,] <- runif(ncol(W)) # initial weight (any better idea?)\n",
    "\n",
    "    # project data using the sigmoid function (just for convenient)\n",
    "    Y <- sigmoid(W[1,],X)\n",
    "    \n",
    "\n",
    "    costs <- data.frame('tau'=1:tau.max)  # to be used to trace the cost in each iteration\n",
    "    costs[1, 'cost'] <- cost(W[1,],X,T)\n",
    "\n",
    "    while(!terminate){\n",
    "        # check termination criteria:\n",
    "        terminate <- tau >= tau.max | cost(W[tau,],X,T)<=epsilon\n",
    "\n",
    "\n",
    "        # for each datapoint:\n",
    "        for (i in 1:nrow(train.data)){\n",
    "            # check termination criteria:\n",
    "            if (tau >= tau.max | cost(W[tau,],X,T) <=epsilon) {terminate<-TRUE;break}\n",
    "\n",
    "            Y <- sigmoid(W[tau,],X)\n",
    "\n",
    "            # Update the weights\n",
    "            W[(tau+1),] <- W[tau,] - eta * (Y[i]-T[i]) * cbind(1, t(X[i,]))\n",
    "\n",
    "            # record the cost:\n",
    "            costs[(tau+1), 'cost'] <- cost(W[tau,],X,T)\n",
    "\n",
    "            # update the counter:\n",
    "            tau <- tau + 1\n",
    "\n",
    "            # decrease learning rate:\n",
    "            eta = eta * 0.999\n",
    "        }\n",
    "    }\n",
    "    # Done!\n",
    "    costs <- costs[1:tau, ] # remove the NaN tail of the vector (in case of early stopping)\n",
    "\n",
    "    # the  final result is:\n",
    "    return(W[tau,])\n",
    "}"
   ]
  },
  {
   "cell_type": "code",
   "execution_count": 20,
   "metadata": {},
   "outputs": [],
   "source": [
    "# iterator for test error\n",
    "i = 1\n",
    "\n",
    "#initializing test_error matrix\n",
    "test_error = matrix(,nrow=nrow(train.data)/5,ncol=3)\n",
    "colnames(test_error) <- c('Bayes error','logistic.error','i')\n",
    "\n",
    "# for each datapoint\n",
    "for (k in 1:nrow(train.data)){\n",
    "    # for every 5 datapoints\n",
    "    if (k%%5 == 0){\n",
    "        # new train data\n",
    "        t_data = train.data[1:k,]\n",
    "        t_label = train.label[1:k]\n",
    "        \n",
    "        # test error from bayes classifier\n",
    "        test_error[i,1] <- bayesclassifier(t_data,t_label,test.data,test.label)\n",
    "        # weight vector from logistic model\n",
    "        W <- logisticreg(t_data,t_label)\n",
    "        # test error for logistic model\n",
    "        pred_test <- predict(W,test.data)\n",
    "        T <- ifelse(test.label==-1,0,1)\n",
    "        test_error[i,2] <- sum(pred_test!=T)/nrow(test.data)\n",
    "        test_error[i,3] <- i\n",
    "        i = i + 1\n",
    "    }\n",
    "}"
   ]
  },
  {
   "cell_type": "markdown",
   "metadata": {},
   "source": [
    "## Plotting test errors from bayes classifier and logistic regression"
   ]
  },
  {
   "cell_type": "code",
   "execution_count": 25,
   "metadata": {},
   "outputs": [
    {
     "data": {
      "image/png": "[encoded data removed]",
      "text/plain": [
       "plot without title"
      ]
     },
     "metadata": {},
     "output_type": "display_data"
    }
   ],
   "source": [
    "# convert to dataframe\n",
    "test_error = data.frame(test_error)\n",
    "\n",
    "# plotting error using ggplots\n",
    "y <- ggplot(test_error,aes(x=i,y=Bayes.error))+geom_line(aes(color='Bayes.error'))\n",
    "z <- y +geom_line(aes(x=i,y=logistic.error,color='logistic.error'))+coord_cartesian(ylim = c(0, 0.1))\n",
    "\n",
    "plot(z)"
   ]
  },
  {
   "cell_type": "markdown",
   "metadata": {},
   "source": [
    "**What does happen for each classifier when the number of training\n",
    "data points is increased?**\n",
    "\n",
    "As the number of training data points increases, bias of the model decrease and variance increase. At the begining test error, test error of both classifiers is higher and same at the end."
   ]
  },
  {
   "cell_type": "markdown",
   "metadata": {},
   "source": [
    "**Which classifier is best suited when the training set is small, and\n",
    "which is best suited when the training set is big?**\n",
    "\n",
    "Bayes classifiers assumes features are independent from each other But real data is dependent. Bayes always tries to figure how data is generated while logistic regression take probability has a confidence level to classify. for small training data, Bayes classifier is preferred over logistic regression and vice verse."
   ]
  },
  {
   "cell_type": "markdown",
   "metadata": {},
   "source": [
    "**Justify your observations in previous questions (III.a & III.b) by\n",
    "providing some speculations and possible reasons.**\n",
    "\n",
    "Bias of both calssifiers is decreasing whereas variance increasing. hence, from the fundamental concepts test error always will be low at bias and variance tradoff. logistic regression is more complex model cause during the training phase, weights are updated based on the probability of input features while bayes is less complex. So, learning rate of Bayes is greater than logistic when training data is small. If training data is big, logitics regression is favoured since it weights are so stable will not effected variance and same cant be said about Bayes. "
   ]
  }
 ],
 "metadata": {
  "kernelspec": {
   "display_name": "R",
   "language": "R",
   "name": "ir"
  },
  "language_info": {
   "codemirror_mode": "r",
   "file_extension": ".r",
   "mimetype": "text/x-r-source",
   "name": "R",
   "pygments_lexer": "r",
   "version": "3.4.3"
  }
 },
 "nbformat": 4,
 "nbformat_minor": 2
}
